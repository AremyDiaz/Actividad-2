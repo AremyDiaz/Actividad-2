{
 "cells": [
  {
   "cell_type": "markdown",
   "metadata": {},
   "source": [
    "## Limpieza Airbnb Chile "
   ]
  },
  {
   "cell_type": "markdown",
   "metadata": {},
   "source": [
    "#### Importación de librerías y bases de datos "
   ]
  },
  {
   "cell_type": "code",
   "execution_count": 1,
   "metadata": {},
   "outputs": [
    {
     "data": {
      "text/html": [
       "        <script type=\"text/javascript\">\n",
       "        window.PlotlyConfig = {MathJaxConfig: 'local'};\n",
       "        if (window.MathJax && window.MathJax.Hub && window.MathJax.Hub.Config) {window.MathJax.Hub.Config({SVG: {font: \"STIX-Web\"}});}\n",
       "        if (typeof require !== 'undefined') {\n",
       "        require.undef(\"plotly\");\n",
       "        requirejs.config({\n",
       "            paths: {\n",
       "                'plotly': ['https://cdn.plot.ly/plotly-2.14.0.min']\n",
       "            }\n",
       "        });\n",
       "        require(['plotly'], function(Plotly) {\n",
       "            window._Plotly = Plotly;\n",
       "        });\n",
       "        }\n",
       "        </script>\n",
       "        "
      ]
     },
     "metadata": {},
     "output_type": "display_data"
    }
   ],
   "source": [
    "#Importamos las librerías que utilizaremos en nuestro proyecto \n",
    "import pandas as pd\n",
    "import numpy as np\n",
    "import matplotlib.pyplot as plt\n",
    "import cufflinks as cf\n",
    "from IPython.display import display,HTML\n",
    "import seaborn as sns\n",
    "#Se definen temas"
   ]
  },
  {
   "cell_type": "code",
   "execution_count": 46,
   "metadata": {},
   "outputs": [
    {
     "data": {
      "text/html": [
       "<div>\n",
       "<style scoped>\n",
       "    .dataframe tbody tr th:only-of-type {\n",
       "        vertical-align: middle;\n",
       "    }\n",
       "\n",
       "    .dataframe tbody tr th {\n",
       "        vertical-align: top;\n",
       "    }\n",
       "\n",
       "    .dataframe thead th {\n",
       "        text-align: right;\n",
       "    }\n",
       "</style>\n",
       "<table border=\"1\" class=\"dataframe\">\n",
       "  <thead>\n",
       "    <tr style=\"text-align: right;\">\n",
       "      <th></th>\n",
       "      <th>id</th>\n",
       "      <th>name</th>\n",
       "      <th>host_id</th>\n",
       "      <th>host_name</th>\n",
       "      <th>neighbourhood_group</th>\n",
       "      <th>neighbourhood</th>\n",
       "      <th>latitude</th>\n",
       "      <th>longitude</th>\n",
       "      <th>room_type</th>\n",
       "      <th>price</th>\n",
       "      <th>minimum_nights</th>\n",
       "      <th>number_of_reviews</th>\n",
       "      <th>last_review</th>\n",
       "      <th>reviews_per_month</th>\n",
       "      <th>calculated_host_listings_count</th>\n",
       "      <th>availability_365</th>\n",
       "      <th>number_of_reviews_ltm</th>\n",
       "      <th>license</th>\n",
       "    </tr>\n",
       "  </thead>\n",
       "  <tbody>\n",
       "    <tr>\n",
       "      <th>0</th>\n",
       "      <td>102444</td>\n",
       "      <td>Safe and Comfortable apartment</td>\n",
       "      <td>535515</td>\n",
       "      <td>Joel</td>\n",
       "      <td>NaN</td>\n",
       "      <td>La Florida</td>\n",
       "      <td>-33.55981</td>\n",
       "      <td>-70.55494</td>\n",
       "      <td>Shared room</td>\n",
       "      <td>70443</td>\n",
       "      <td>1</td>\n",
       "      <td>0</td>\n",
       "      <td>NaN</td>\n",
       "      <td>NaN</td>\n",
       "      <td>1</td>\n",
       "      <td>365</td>\n",
       "      <td>0</td>\n",
       "      <td>NaN</td>\n",
       "    </tr>\n",
       "    <tr>\n",
       "      <th>1</th>\n",
       "      <td>49392</td>\n",
       "      <td>Share my Flat in Providencia</td>\n",
       "      <td>224592</td>\n",
       "      <td>Maria</td>\n",
       "      <td>NaN</td>\n",
       "      <td>Providencia</td>\n",
       "      <td>-33.43266</td>\n",
       "      <td>-70.60072</td>\n",
       "      <td>Private room</td>\n",
       "      <td>46669</td>\n",
       "      <td>3</td>\n",
       "      <td>0</td>\n",
       "      <td>NaN</td>\n",
       "      <td>NaN</td>\n",
       "      <td>2</td>\n",
       "      <td>178</td>\n",
       "      <td>0</td>\n",
       "      <td>NaN</td>\n",
       "    </tr>\n",
       "    <tr>\n",
       "      <th>2</th>\n",
       "      <td>24225724</td>\n",
       "      <td>ARRIENDO PIEZA EN CHICUREO</td>\n",
       "      <td>156055914</td>\n",
       "      <td>Juan Manuel</td>\n",
       "      <td>NaN</td>\n",
       "      <td>Quilicura</td>\n",
       "      <td>-33.30319</td>\n",
       "      <td>-70.69612</td>\n",
       "      <td>Private room</td>\n",
       "      <td>18357</td>\n",
       "      <td>5</td>\n",
       "      <td>0</td>\n",
       "      <td>NaN</td>\n",
       "      <td>NaN</td>\n",
       "      <td>1</td>\n",
       "      <td>179</td>\n",
       "      <td>0</td>\n",
       "      <td>NaN</td>\n",
       "    </tr>\n",
       "    <tr>\n",
       "      <th>3</th>\n",
       "      <td>25352401</td>\n",
       "      <td>Casa nicolas</td>\n",
       "      <td>190475718</td>\n",
       "      <td>Nicolas</td>\n",
       "      <td>NaN</td>\n",
       "      <td>La Pintana</td>\n",
       "      <td>-33.59622</td>\n",
       "      <td>-70.67131</td>\n",
       "      <td>Private room</td>\n",
       "      <td>10000</td>\n",
       "      <td>1</td>\n",
       "      <td>0</td>\n",
       "      <td>NaN</td>\n",
       "      <td>NaN</td>\n",
       "      <td>1</td>\n",
       "      <td>89</td>\n",
       "      <td>0</td>\n",
       "      <td>14824</td>\n",
       "    </tr>\n",
       "    <tr>\n",
       "      <th>4</th>\n",
       "      <td>33305262</td>\n",
       "      <td>Habitación con baño privado</td>\n",
       "      <td>250854540</td>\n",
       "      <td>Matias</td>\n",
       "      <td>NaN</td>\n",
       "      <td>La Florida</td>\n",
       "      <td>-33.56327</td>\n",
       "      <td>-70.55508</td>\n",
       "      <td>Private room</td>\n",
       "      <td>11500</td>\n",
       "      <td>1</td>\n",
       "      <td>1</td>\n",
       "      <td>2019-04-02</td>\n",
       "      <td>0.03</td>\n",
       "      <td>1</td>\n",
       "      <td>360</td>\n",
       "      <td>0</td>\n",
       "      <td>NaN</td>\n",
       "    </tr>\n",
       "    <tr>\n",
       "      <th>...</th>\n",
       "      <td>...</td>\n",
       "      <td>...</td>\n",
       "      <td>...</td>\n",
       "      <td>...</td>\n",
       "      <td>...</td>\n",
       "      <td>...</td>\n",
       "      <td>...</td>\n",
       "      <td>...</td>\n",
       "      <td>...</td>\n",
       "      <td>...</td>\n",
       "      <td>...</td>\n",
       "      <td>...</td>\n",
       "      <td>...</td>\n",
       "      <td>...</td>\n",
       "      <td>...</td>\n",
       "      <td>...</td>\n",
       "      <td>...</td>\n",
       "      <td>...</td>\n",
       "    </tr>\n",
       "    <tr>\n",
       "      <th>8154</th>\n",
       "      <td>27459868</td>\n",
       "      <td>Alojamiento frente al Jumbo de Chamisero</td>\n",
       "      <td>3655121</td>\n",
       "      <td>Andrea</td>\n",
       "      <td>NaN</td>\n",
       "      <td>Huechuraba</td>\n",
       "      <td>-33.31748</td>\n",
       "      <td>-70.65082</td>\n",
       "      <td>Private room</td>\n",
       "      <td>20000</td>\n",
       "      <td>15</td>\n",
       "      <td>0</td>\n",
       "      <td>NaN</td>\n",
       "      <td>NaN</td>\n",
       "      <td>3</td>\n",
       "      <td>177</td>\n",
       "      <td>0</td>\n",
       "      <td>NaN</td>\n",
       "    </tr>\n",
       "    <tr>\n",
       "      <th>8155</th>\n",
       "      <td>26258140</td>\n",
       "      <td>Casa amplia y cómoda en Santiago</td>\n",
       "      <td>192110386</td>\n",
       "      <td>Marilu</td>\n",
       "      <td>NaN</td>\n",
       "      <td>Quilicura</td>\n",
       "      <td>-33.32434</td>\n",
       "      <td>-70.75552</td>\n",
       "      <td>Entire home/apt</td>\n",
       "      <td>124286</td>\n",
       "      <td>3</td>\n",
       "      <td>21</td>\n",
       "      <td>2021-11-18</td>\n",
       "      <td>0.44</td>\n",
       "      <td>1</td>\n",
       "      <td>71</td>\n",
       "      <td>2</td>\n",
       "      <td>NaN</td>\n",
       "    </tr>\n",
       "    <tr>\n",
       "      <th>8156</th>\n",
       "      <td>41380910</td>\n",
       "      <td>Casa Piscina Jardín Chamisero - 8 min de Vitacura</td>\n",
       "      <td>110039387</td>\n",
       "      <td>Stephanie</td>\n",
       "      <td>NaN</td>\n",
       "      <td>Huechuraba</td>\n",
       "      <td>-33.32342</td>\n",
       "      <td>-70.63119</td>\n",
       "      <td>Entire home/apt</td>\n",
       "      <td>70000</td>\n",
       "      <td>30</td>\n",
       "      <td>4</td>\n",
       "      <td>2021-03-14</td>\n",
       "      <td>0.14</td>\n",
       "      <td>1</td>\n",
       "      <td>356</td>\n",
       "      <td>0</td>\n",
       "      <td>NaN</td>\n",
       "    </tr>\n",
       "    <tr>\n",
       "      <th>8157</th>\n",
       "      <td>37525028</td>\n",
       "      <td>Habitación en San Bernardo</td>\n",
       "      <td>252327165</td>\n",
       "      <td>Luz</td>\n",
       "      <td>NaN</td>\n",
       "      <td>El Bosque</td>\n",
       "      <td>-33.56115</td>\n",
       "      <td>-70.70752</td>\n",
       "      <td>Private room</td>\n",
       "      <td>21000</td>\n",
       "      <td>1</td>\n",
       "      <td>11</td>\n",
       "      <td>2022-05-28</td>\n",
       "      <td>0.32</td>\n",
       "      <td>1</td>\n",
       "      <td>89</td>\n",
       "      <td>9</td>\n",
       "      <td>NaN</td>\n",
       "    </tr>\n",
       "    <tr>\n",
       "      <th>8158</th>\n",
       "      <td>622486466848046237</td>\n",
       "      <td>departamento  equipado y con estacionamiento</td>\n",
       "      <td>297981081</td>\n",
       "      <td>Patricio</td>\n",
       "      <td>NaN</td>\n",
       "      <td>La Florida</td>\n",
       "      <td>-33.56725</td>\n",
       "      <td>-70.55532</td>\n",
       "      <td>Entire home/apt</td>\n",
       "      <td>40000</td>\n",
       "      <td>2</td>\n",
       "      <td>0</td>\n",
       "      <td>NaN</td>\n",
       "      <td>NaN</td>\n",
       "      <td>1</td>\n",
       "      <td>365</td>\n",
       "      <td>0</td>\n",
       "      <td>NaN</td>\n",
       "    </tr>\n",
       "  </tbody>\n",
       "</table>\n",
       "<p>8159 rows × 18 columns</p>\n",
       "</div>"
      ],
      "text/plain": [
       "                      id                                               name  \\\n",
       "0                 102444                     Safe and Comfortable apartment   \n",
       "1                  49392                       Share my Flat in Providencia   \n",
       "2               24225724                         ARRIENDO PIEZA EN CHICUREO   \n",
       "3               25352401                                       Casa nicolas   \n",
       "4               33305262                        Habitación con baño privado   \n",
       "...                  ...                                                ...   \n",
       "8154            27459868           Alojamiento frente al Jumbo de Chamisero   \n",
       "8155            26258140                   Casa amplia y cómoda en Santiago   \n",
       "8156            41380910  Casa Piscina Jardín Chamisero - 8 min de Vitacura   \n",
       "8157            37525028                         Habitación en San Bernardo   \n",
       "8158  622486466848046237       departamento  equipado y con estacionamiento   \n",
       "\n",
       "        host_id    host_name  neighbourhood_group neighbourhood  latitude  \\\n",
       "0        535515         Joel                  NaN    La Florida -33.55981   \n",
       "1        224592        Maria                  NaN   Providencia -33.43266   \n",
       "2     156055914  Juan Manuel                  NaN     Quilicura -33.30319   \n",
       "3     190475718      Nicolas                  NaN    La Pintana -33.59622   \n",
       "4     250854540       Matias                  NaN    La Florida -33.56327   \n",
       "...         ...          ...                  ...           ...       ...   \n",
       "8154    3655121       Andrea                  NaN    Huechuraba -33.31748   \n",
       "8155  192110386       Marilu                  NaN     Quilicura -33.32434   \n",
       "8156  110039387    Stephanie                  NaN    Huechuraba -33.32342   \n",
       "8157  252327165          Luz                  NaN     El Bosque -33.56115   \n",
       "8158  297981081     Patricio                  NaN    La Florida -33.56725   \n",
       "\n",
       "      longitude        room_type   price  minimum_nights  number_of_reviews  \\\n",
       "0     -70.55494      Shared room   70443               1                  0   \n",
       "1     -70.60072     Private room   46669               3                  0   \n",
       "2     -70.69612     Private room   18357               5                  0   \n",
       "3     -70.67131     Private room   10000               1                  0   \n",
       "4     -70.55508     Private room   11500               1                  1   \n",
       "...         ...              ...     ...             ...                ...   \n",
       "8154  -70.65082     Private room   20000              15                  0   \n",
       "8155  -70.75552  Entire home/apt  124286               3                 21   \n",
       "8156  -70.63119  Entire home/apt   70000              30                  4   \n",
       "8157  -70.70752     Private room   21000               1                 11   \n",
       "8158  -70.55532  Entire home/apt   40000               2                  0   \n",
       "\n",
       "     last_review  reviews_per_month  calculated_host_listings_count  \\\n",
       "0            NaN                NaN                               1   \n",
       "1            NaN                NaN                               2   \n",
       "2            NaN                NaN                               1   \n",
       "3            NaN                NaN                               1   \n",
       "4     2019-04-02               0.03                               1   \n",
       "...          ...                ...                             ...   \n",
       "8154         NaN                NaN                               3   \n",
       "8155  2021-11-18               0.44                               1   \n",
       "8156  2021-03-14               0.14                               1   \n",
       "8157  2022-05-28               0.32                               1   \n",
       "8158         NaN                NaN                               1   \n",
       "\n",
       "      availability_365  number_of_reviews_ltm license  \n",
       "0                  365                      0     NaN  \n",
       "1                  178                      0     NaN  \n",
       "2                  179                      0     NaN  \n",
       "3                   89                      0   14824  \n",
       "4                  360                      0     NaN  \n",
       "...                ...                    ...     ...  \n",
       "8154               177                      0     NaN  \n",
       "8155                71                      2     NaN  \n",
       "8156               356                      0     NaN  \n",
       "8157                89                      9     NaN  \n",
       "8158               365                      0     NaN  \n",
       "\n",
       "[8159 rows x 18 columns]"
      ]
     },
     "execution_count": 46,
     "metadata": {},
     "output_type": "execute_result"
    }
   ],
   "source": [
    "#Leo mi archivo.csv\n",
    "chile = pd.read_csv(\"Chile_airbnb_data.csv\")\n",
    "chile\n",
    "chile_0 = chile.copy()\n",
    "chile_0"
   ]
  },
  {
   "cell_type": "code",
   "execution_count": 47,
   "metadata": {},
   "outputs": [
    {
     "data": {
      "text/plain": [
       "id                                   0\n",
       "name                                 3\n",
       "host_id                              0\n",
       "host_name                            2\n",
       "neighbourhood_group               8159\n",
       "neighbourhood                        0\n",
       "latitude                             0\n",
       "longitude                            0\n",
       "room_type                            0\n",
       "price                                0\n",
       "minimum_nights                       0\n",
       "number_of_reviews                    0\n",
       "last_review                       2439\n",
       "reviews_per_month                 2439\n",
       "calculated_host_listings_count       0\n",
       "availability_365                     0\n",
       "number_of_reviews_ltm                0\n",
       "license                           8043\n",
       "dtype: int64"
      ]
     },
     "execution_count": 47,
     "metadata": {},
     "output_type": "execute_result"
    }
   ],
   "source": [
    "#Revisemos nuestra base de datos para identificar valores nulos \n",
    "valores_nulos=chile_0.isnull().sum()\n",
    "valores_nulos"
   ]
  },
  {
   "cell_type": "code",
   "execution_count": 48,
   "metadata": {},
   "outputs": [
    {
     "data": {
      "text/plain": [
       "id                                0\n",
       "name                              0\n",
       "host_id                           0\n",
       "host_name                         0\n",
       "neighbourhood_group               0\n",
       "neighbourhood                     0\n",
       "latitude                          0\n",
       "longitude                         0\n",
       "room_type                         0\n",
       "price                             0\n",
       "minimum_nights                    0\n",
       "number_of_reviews                 0\n",
       "last_review                       0\n",
       "reviews_per_month                 0\n",
       "calculated_host_listings_count    0\n",
       "availability_365                  0\n",
       "number_of_reviews_ltm             0\n",
       "license                           0\n",
       "dtype: int64"
      ]
     },
     "execution_count": 48,
     "metadata": {},
     "output_type": "execute_result"
    }
   ],
   "source": [
    "#Realizaremos diversos métodos para reemplazar los valores nulos en las columnas indicadas\n",
    "#Comenzamos con la columna name \n",
    "chile_0[\"name\"]= chile_0[\"name\"].fillna(\"Unknown\") \n",
    "#Columna host_name\n",
    "chile_0[\"host_name\"]= chile_0[\"host_name\"].fillna(\"Unknown\") \n",
    "#Neighbourhood\n",
    "chile_0[\"neighbourhood_group\"]= chile_0[\"host_name\"].fillna(\"Unknown\") \n",
    "#Last review\n",
    "chile_0[\"last_review\"] = chile_0[\"last_review\"].fillna(\"No_reviews\") \n",
    "#Reviews per month \n",
    "chile_0[\"reviews_per_month\"]= chile_0[\"reviews_per_month\"].fillna(0)\n",
    "#License\n",
    "chile_0[\"license\"]= chile_0[\"license\"].fillna(\"Unknown\")\n",
    "valores_nulos=chile_0.isnull().sum()\n",
    "valores_nulos"
   ]
  },
  {
   "cell_type": "code",
   "execution_count": 49,
   "metadata": {},
   "outputs": [
    {
     "data": {
      "text/plain": [
       "0"
      ]
     },
     "execution_count": 49,
     "metadata": {},
     "output_type": "execute_result"
    }
   ],
   "source": [
    "#Comprobación \n",
    "valores_nulos_total=chile_0.isnull().sum().sum()\n",
    "valores_nulos_total"
   ]
  },
  {
   "cell_type": "markdown",
   "metadata": {},
   "source": [
    "#### Identificación de outliers desviación estandar \n"
   ]
  },
  {
   "cell_type": "code",
   "execution_count": 50,
   "metadata": {},
   "outputs": [],
   "source": [
    "#Leo mi archivo.csv\n",
    "chile_1 = chile_0.copy()"
   ]
  },
  {
   "cell_type": "code",
   "execution_count": 51,
   "metadata": {},
   "outputs": [
    {
     "name": "stdout",
     "output_type": "stream",
     "text": [
      "Limite superior permitido 94.75438818027291\n",
      "Limite inferior permitido -79.47776114264576\n"
     ]
    }
   ],
   "source": [
    "#Minimum_nights \n",
    "#Para ambas columnas utilizaremos el método de distribución normal \n",
    "#Comencemos identifi2cando los límites superiores e inferiores de los valores de la columna gnp_old\n",
    "#Utilizaremos como límite 3 desviaciones estándar \n",
    "y=chile_1[\"minimum_nights\"]\n",
    "LS1= y.mean() + 3*y.std()\n",
    "LI1= y.mean() - 3 *y.std()\n",
    "print(\"Limite superior permitido\", Limite_Superior)\n",
    "print(\"Limite inferior permitido\", Limite_Inferior)\n"
   ]
  },
  {
   "cell_type": "code",
   "execution_count": null,
   "metadata": {},
   "outputs": [],
   "source": [
    "#Una vez definidos los límites, encontramos los outliers de la columna\n",
    "outliers_minn= chile_1[(y>Limite_Superior)|(y<Limite_Inferior)]\n",
    "outliers_minn"
   ]
  },
  {
   "cell_type": "code",
   "execution_count": 64,
   "metadata": {},
   "outputs": [],
   "source": [
    "#Sustituimos los outliers con el valor de la moda \n",
    "mode_chil = chile_1.loc[chile_1['minimum_nights']< 94.754, 'minimum_nights'].mode()\n",
    "chile_1[\"minimum_nights\"] = np.where(chile_1[\"minimum_nights\"] >94.754,mode_chil ,chile_1['minimum_nights'])"
   ]
  },
  {
   "cell_type": "code",
   "execution_count": 65,
   "metadata": {},
   "outputs": [
    {
     "data": {
      "text/plain": [
       "8159"
      ]
     },
     "execution_count": 65,
     "metadata": {},
     "output_type": "execute_result"
    }
   ],
   "source": [
    "len(chile_1)\n"
   ]
  },
  {
   "cell_type": "code",
   "execution_count": 70,
   "metadata": {},
   "outputs": [],
   "source": [
    "#Convertirmos el archivo tratado a csv\n",
    "chile_1.to_csv(\"Chile_clean.csv\")"
   ]
  },
  {
   "cell_type": "markdown",
   "metadata": {},
   "source": [
    "#### Análisis de correlación entre variables "
   ]
  },
  {
   "cell_type": "code",
   "execution_count": 69,
   "metadata": {},
   "outputs": [],
   "source": [
    "#Hacemos una copia de nuestro dataframe\n",
    "chile_2 = chile_1.copy()"
   ]
  },
  {
   "cell_type": "code",
   "execution_count": null,
   "metadata": {},
   "outputs": [],
   "source": [
    "#Encontramos todas las correlaciones entre las variables \n",
    "Corr_Factors=chile_2.corr()\n",
    "Corr_Factors"
   ]
  }
 ],
 "metadata": {
  "kernelspec": {
   "display_name": "Python 3.10.6 64-bit",
   "language": "python",
   "name": "python3"
  },
  "language_info": {
   "codemirror_mode": {
    "name": "ipython",
    "version": 3
   },
   "file_extension": ".py",
   "mimetype": "text/x-python",
   "name": "python",
   "nbconvert_exporter": "python",
   "pygments_lexer": "ipython3",
   "version": "3.10.6"
  },
  "orig_nbformat": 4,
  "vscode": {
   "interpreter": {
    "hash": "11a32da29e01205a8970d64bc3d9d944de9781f6310edf4d79f8b59a916b61f2"
   }
  }
 },
 "nbformat": 4,
 "nbformat_minor": 2
}
